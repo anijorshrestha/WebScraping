{
 "cells": [
  {
   "cell_type": "code",
   "execution_count": 1,
   "metadata": {},
   "outputs": [
    {
     "name": "stdout",
     "output_type": "stream",
     "text": [
      "Requirement already satisfied: requests in c:\\users\\hp\\anaconda3\\lib\\site-packages (2.22.0)\n",
      "Requirement already satisfied: idna<2.9,>=2.5 in c:\\users\\hp\\anaconda3\\lib\\site-packages (from requests) (2.8)\n",
      "Requirement already satisfied: chardet<3.1.0,>=3.0.2 in c:\\users\\hp\\anaconda3\\lib\\site-packages (from requests) (3.0.4)\n",
      "Requirement already satisfied: urllib3!=1.25.0,!=1.25.1,<1.26,>=1.21.1 in c:\\users\\hp\\anaconda3\\lib\\site-packages (from requests) (1.24.2)\n",
      "Requirement already satisfied: certifi>=2017.4.17 in c:\\users\\hp\\anaconda3\\lib\\site-packages (from requests) (2019.9.11)\n",
      "Note: you may need to restart the kernel to use updated packages.\n"
     ]
    }
   ],
   "source": [
    "pip install requests"
   ]
  },
  {
   "cell_type": "code",
   "execution_count": 14,
   "metadata": {},
   "outputs": [],
   "source": [
    "import requests \n",
    "r = requests.get('https://nypost.com/tag/newspapers/')"
   ]
  },
  {
   "cell_type": "code",
   "execution_count": 15,
   "metadata": {},
   "outputs": [
    {
     "name": "stdout",
     "output_type": "stream",
     "text": [
      "<!DOCTYPE html>\n",
      "<html lang=\"en\" class=\"no-js\">\n",
      "<head prefix=\"og: http://ogp.me/ns# fb: http://ogp.me/ns/fb#\">\n",
      "<meta http-equiv=\"X-UA-Compatible\" content=\"IE=edge\" />\n",
      "<meta charset=\"UTF-8\" />\n",
      "\n",
      "\n",
      "<script>document.documentElement.classList.remove(\"no-js\");</script>\n",
      "\n",
      "<!-- OneTrust Cookies Consent Notice start -->\n",
      "<script src=\"https://cdn.cookielaw.org/scripttemplates/otSDKStub.js\"  type=\"text/javascript\" charset=\"UTF-8\" data-domain-script=\"6c0f8417-b563-477c-8b00-33914cb4600e\"></script>\n",
      "<script type=\n"
     ]
    }
   ],
   "source": [
    "print(r.text[0:500])"
   ]
  },
  {
   "cell_type": "code",
   "execution_count": 4,
   "metadata": {},
   "outputs": [
    {
     "name": "stdout",
     "output_type": "stream",
     "text": [
      "Requirement already satisfied: beautifulsoup4 in c:\\users\\hp\\anaconda3\\lib\\site-packages (4.8.0)\n",
      "Requirement already satisfied: soupsieve>=1.2 in c:\\users\\hp\\anaconda3\\lib\\site-packages (from beautifulsoup4) (1.9.3)\n",
      "Note: you may need to restart the kernel to use updated packages.\n"
     ]
    }
   ],
   "source": [
    "pip install beautifulsoup4"
   ]
  },
  {
   "cell_type": "code",
   "execution_count": 16,
   "metadata": {},
   "outputs": [],
   "source": [
    "from bs4 import BeautifulSoup\n",
    "soup = BeautifulSoup(r.text, 'html.parser')"
   ]
  },
  {
   "cell_type": "code",
   "execution_count": 30,
   "metadata": {},
   "outputs": [],
   "source": [
    " results=soup.find_all('div', attrs={'class':'entry-header'})"
   ]
  },
  {
   "cell_type": "code",
   "execution_count": 31,
   "metadata": {},
   "outputs": [
    {
     "name": "stdout",
     "output_type": "stream",
     "text": [
      "[<div class=\"entry-header\">\n",
      "<h3 class=\"entry-heading\">\n",
      "<a class=\"postid-15253515\" href=\"https://nypost.com/2020/03/05/australian-paper-prints-extra-pages-to-help-with-toilet-paper-shortage/\">No TP because of coronavirus? This Aussie paper has your back(side)</a>\n",
      "</h3>\n",
      "<div class=\"entry-meta\">\n",
      "<p>March 5, 2020 | 4:49pm</p>\n",
      "</div><!-- .entry-meta -->\n",
      "</div>, <div class=\"entry-header\">\n",
      "<h3 class=\"entry-heading\">\n",
      "<a class=\"postid-15248554\" href=\"https://nypost.com/2020/03/04/legendary-new-york-post-editor-al-ellenberg-dead-of-cancer-at-84/\">Legendary New York Post editor Al Ellenberg dead of cancer at 84</a>\n",
      "</h3>\n",
      "<div class=\"entry-meta\">\n",
      "<p>March 4, 2020 | 8:57pm</p>\n",
      "</div><!-- .entry-meta -->\n",
      "</div>, <div class=\"entry-header\">\n",
      "<h3 class=\"entry-heading\">\n",
      "<a class=\"postid-15212737\" href=\"https://nypost.com/2020/02/27/top-chicago-tribune-editor-bruce-dold-fired/\">Top Chicago Tribune editor Bruce Dold fired</a>\n",
      "</h3>\n",
      "<div class=\"entry-meta\">\n",
      "<p>February 27, 2020 | 1:35pm</p>\n",
      "</div><!-- .entry-meta -->\n",
      "</div>, <div class=\"entry-header\">\n",
      "<h3 class=\"entry-heading\">\n",
      "<a class=\"postid-15135688\" href=\"https://nypost.com/2020/02/13/newspaper-giant-mcclatchy-owner-of-miami-herald-files-for-bankruptcy/\">Newspaper giant McClatchy files for bankruptcy</a>\n",
      "</h3>\n",
      "<div class=\"entry-meta\">\n",
      "<p>February 13, 2020 | 8:09am</p>\n",
      "</div><!-- .entry-meta -->\n",
      "</div>, <div class=\"entry-header\">\n",
      "<h3 class=\"entry-heading\">\n",
      "<a class=\"postid-15108377\" href=\"https://nypost.com/2020/02/08/nicaragua-returns-ink-paper-seized-from-publication-critical-of-government/\">Nicaragua returns ink, paper seized from publication critical of government</a>\n",
      "</h3>\n",
      "<div class=\"entry-meta\">\n",
      "<p>February 8, 2020 | 3:19pm</p>\n",
      "</div><!-- .entry-meta -->\n",
      "</div>]\n"
     ]
    }
   ],
   "source": [
    "print(results[0:5])"
   ]
  },
  {
   "cell_type": "code",
   "execution_count": 32,
   "metadata": {},
   "outputs": [
    {
     "data": {
      "text/plain": [
       "10"
      ]
     },
     "execution_count": 32,
     "metadata": {},
     "output_type": "execute_result"
    }
   ],
   "source": [
    "len(results)"
   ]
  },
  {
   "cell_type": "code",
   "execution_count": 33,
   "metadata": {},
   "outputs": [
    {
     "data": {
      "text/plain": [
       "<div class=\"entry-header\">\n",
       "<h3 class=\"entry-heading\">\n",
       "<a class=\"postid-15253515\" href=\"https://nypost.com/2020/03/05/australian-paper-prints-extra-pages-to-help-with-toilet-paper-shortage/\">No TP because of coronavirus? This Aussie paper has your back(side)</a>\n",
       "</h3>\n",
       "<div class=\"entry-meta\">\n",
       "<p>March 5, 2020 | 4:49pm</p>\n",
       "</div><!-- .entry-meta -->\n",
       "</div>"
      ]
     },
     "execution_count": 33,
     "metadata": {},
     "output_type": "execute_result"
    }
   ],
   "source": [
    "first_result=results[0]\n",
    "first_result"
   ]
  },
  {
   "cell_type": "code",
   "execution_count": 23,
   "metadata": {},
   "outputs": [
    {
     "data": {
      "text/plain": [
       "<a class=\"postid-15253515\" href=\"https://nypost.com/2020/03/05/australian-paper-prints-extra-pages-to-help-with-toilet-paper-shortage/\">No TP because of coronavirus? This Aussie paper has your back(side)</a>"
      ]
     },
     "execution_count": 23,
     "metadata": {},
     "output_type": "execute_result"
    }
   ],
   "source": [
    "first_result.find('a')"
   ]
  },
  {
   "cell_type": "code",
   "execution_count": 34,
   "metadata": {},
   "outputs": [
    {
     "data": {
      "text/plain": [
       "['\\n', <h3 class=\"entry-heading\">\n",
       " <a class=\"postid-15253515\" href=\"https://nypost.com/2020/03/05/australian-paper-prints-extra-pages-to-help-with-toilet-paper-shortage/\">No TP because of coronavirus? This Aussie paper has your back(side)</a>\n",
       " </h3>, '\\n', <div class=\"entry-meta\">\n",
       " <p>March 5, 2020 | 4:49pm</p>\n",
       " </div>, ' .entry-meta ', '\\n']"
      ]
     },
     "execution_count": 34,
     "metadata": {},
     "output_type": "execute_result"
    }
   ],
   "source": [
    " first_result.contents"
   ]
  },
  {
   "cell_type": "code",
   "execution_count": 60,
   "metadata": {},
   "outputs": [
    {
     "data": {
      "text/plain": [
       "' 4:49pm\\n'"
      ]
     },
     "execution_count": 60,
     "metadata": {},
     "output_type": "execute_result"
    }
   ],
   "source": [
    "( first_result.contents[3].text).split('|')[]"
   ]
  },
  {
   "cell_type": "code",
   "execution_count": 68,
   "metadata": {},
   "outputs": [],
   "source": [
    " records=[]\n",
    "for result in results:\n",
    "        header= result.find('a').text\n",
    "        date= ( result.contents[3].text).split('|')[0][1:-1]\n",
    "        time= ( result.contents[3].text).split('|')[1][1:-1]\n",
    "        records.append((header, date,time))"
   ]
  },
  {
   "cell_type": "code",
   "execution_count": 62,
   "metadata": {},
   "outputs": [
    {
     "data": {
      "text/plain": [
       "10"
      ]
     },
     "execution_count": 62,
     "metadata": {},
     "output_type": "execute_result"
    }
   ],
   "source": [
    "len(records)"
   ]
  },
  {
   "cell_type": "code",
   "execution_count": 69,
   "metadata": {},
   "outputs": [
    {
     "data": {
      "text/plain": [
       "[('No TP because of coronavirus? This Aussie paper has your back(side)',\n",
       "  'March 5, 2020',\n",
       "  '4:49pm'),\n",
       " ('Legendary New York Post editor Al Ellenberg dead of cancer at 84',\n",
       "  'March 4, 2020',\n",
       "  '8:57pm'),\n",
       " ('Top Chicago Tribune editor Bruce Dold fired',\n",
       "  'February 27, 2020',\n",
       "  '1:35pm'),\n",
       " ('Newspaper giant McClatchy files for bankruptcy',\n",
       "  'February 13, 2020',\n",
       "  '8:09am'),\n",
       " ('Nicaragua returns ink, paper seized from publication critical of government',\n",
       "  'February 8, 2020',\n",
       "  '3:19pm'),\n",
       " (\"Tribune Publishing's new CEO unleashes bloodbath in executive ranks\",\n",
       "  'February 6, 2020',\n",
       "  '2:01pm'),\n",
       " ('NYT revenue tops estimates as digital subscriptions rise',\n",
       "  'February 6, 2020',\n",
       "  '10:48am'),\n",
       " ('Tribune names finance chief to CEO post amid cost-cutting',\n",
       "  'February 3, 2020',\n",
       "  '2:47pm'),\n",
       " ('Buzzfeed chief Ben Smith leaves for NY Times columnist job',\n",
       "  'January 28, 2020',\n",
       "  '4:24pm'),\n",
       " (\"China demands apology for newspaper's coronavirus cartoon\",\n",
       "  'January 28, 2020',\n",
       "  '1:45pm')]"
      ]
     },
     "execution_count": 69,
     "metadata": {},
     "output_type": "execute_result"
    }
   ],
   "source": [
    "records"
   ]
  },
  {
   "cell_type": "code",
   "execution_count": null,
   "metadata": {},
   "outputs": [],
   "source": []
  },
  {
   "cell_type": "code",
   "execution_count": 71,
   "metadata": {},
   "outputs": [],
   "source": [
    "import pandas as pd\n",
    "df=pd.DataFrame(records,columns=['header','date','time'])"
   ]
  },
  {
   "cell_type": "code",
   "execution_count": 72,
   "metadata": {},
   "outputs": [
    {
     "data": {
      "text/html": [
       "<div>\n",
       "<style scoped>\n",
       "    .dataframe tbody tr th:only-of-type {\n",
       "        vertical-align: middle;\n",
       "    }\n",
       "\n",
       "    .dataframe tbody tr th {\n",
       "        vertical-align: top;\n",
       "    }\n",
       "\n",
       "    .dataframe thead th {\n",
       "        text-align: right;\n",
       "    }\n",
       "</style>\n",
       "<table border=\"1\" class=\"dataframe\">\n",
       "  <thead>\n",
       "    <tr style=\"text-align: right;\">\n",
       "      <th></th>\n",
       "      <th>header</th>\n",
       "      <th>date</th>\n",
       "      <th>time</th>\n",
       "    </tr>\n",
       "  </thead>\n",
       "  <tbody>\n",
       "    <tr>\n",
       "      <td>0</td>\n",
       "      <td>No TP because of coronavirus? This Aussie pape...</td>\n",
       "      <td>March 5, 2020</td>\n",
       "      <td>4:49pm</td>\n",
       "    </tr>\n",
       "    <tr>\n",
       "      <td>1</td>\n",
       "      <td>Legendary New York Post editor Al Ellenberg de...</td>\n",
       "      <td>March 4, 2020</td>\n",
       "      <td>8:57pm</td>\n",
       "    </tr>\n",
       "    <tr>\n",
       "      <td>2</td>\n",
       "      <td>Top Chicago Tribune editor Bruce Dold fired</td>\n",
       "      <td>February 27, 2020</td>\n",
       "      <td>1:35pm</td>\n",
       "    </tr>\n",
       "    <tr>\n",
       "      <td>3</td>\n",
       "      <td>Newspaper giant McClatchy files for bankruptcy</td>\n",
       "      <td>February 13, 2020</td>\n",
       "      <td>8:09am</td>\n",
       "    </tr>\n",
       "    <tr>\n",
       "      <td>4</td>\n",
       "      <td>Nicaragua returns ink, paper seized from publi...</td>\n",
       "      <td>February 8, 2020</td>\n",
       "      <td>3:19pm</td>\n",
       "    </tr>\n",
       "  </tbody>\n",
       "</table>\n",
       "</div>"
      ],
      "text/plain": [
       "                                              header               date  \\\n",
       "0  No TP because of coronavirus? This Aussie pape...      March 5, 2020   \n",
       "1  Legendary New York Post editor Al Ellenberg de...      March 4, 2020   \n",
       "2        Top Chicago Tribune editor Bruce Dold fired  February 27, 2020   \n",
       "3     Newspaper giant McClatchy files for bankruptcy  February 13, 2020   \n",
       "4  Nicaragua returns ink, paper seized from publi...   February 8, 2020   \n",
       "\n",
       "     time  \n",
       "0  4:49pm  \n",
       "1  8:57pm  \n",
       "2  1:35pm  \n",
       "3  8:09am  \n",
       "4  3:19pm  "
      ]
     },
     "execution_count": 72,
     "metadata": {},
     "output_type": "execute_result"
    }
   ],
   "source": [
    "df.head()"
   ]
  },
  {
   "cell_type": "code",
   "execution_count": 49,
   "metadata": {},
   "outputs": [
    {
     "data": {
      "text/html": [
       "<div>\n",
       "<style scoped>\n",
       "    .dataframe tbody tr th:only-of-type {\n",
       "        vertical-align: middle;\n",
       "    }\n",
       "\n",
       "    .dataframe tbody tr th {\n",
       "        vertical-align: top;\n",
       "    }\n",
       "\n",
       "    .dataframe thead th {\n",
       "        text-align: right;\n",
       "    }\n",
       "</style>\n",
       "<table border=\"1\" class=\"dataframe\">\n",
       "  <thead>\n",
       "    <tr style=\"text-align: right;\">\n",
       "      <th></th>\n",
       "      <th>header</th>\n",
       "      <th>date</th>\n",
       "    </tr>\n",
       "  </thead>\n",
       "  <tbody>\n",
       "    <tr>\n",
       "      <td>5</td>\n",
       "      <td>Tribune Publishing's new CEO unleashes bloodba...</td>\n",
       "      <td>February 6, 2020 | 2:01pm</td>\n",
       "    </tr>\n",
       "    <tr>\n",
       "      <td>6</td>\n",
       "      <td>NYT revenue tops estimates as digital subscrip...</td>\n",
       "      <td>February 6, 2020 | 10:48am</td>\n",
       "    </tr>\n",
       "    <tr>\n",
       "      <td>7</td>\n",
       "      <td>Tribune names finance chief to CEO post amid c...</td>\n",
       "      <td>February 3, 2020 | 2:47pm</td>\n",
       "    </tr>\n",
       "    <tr>\n",
       "      <td>8</td>\n",
       "      <td>Buzzfeed chief Ben Smith leaves for NY Times c...</td>\n",
       "      <td>January 28, 2020 | 4:24pm</td>\n",
       "    </tr>\n",
       "    <tr>\n",
       "      <td>9</td>\n",
       "      <td>China demands apology for newspaper's coronavi...</td>\n",
       "      <td>January 28, 2020 | 1:45pm</td>\n",
       "    </tr>\n",
       "  </tbody>\n",
       "</table>\n",
       "</div>"
      ],
      "text/plain": [
       "                                              header  \\\n",
       "5  Tribune Publishing's new CEO unleashes bloodba...   \n",
       "6  NYT revenue tops estimates as digital subscrip...   \n",
       "7  Tribune names finance chief to CEO post amid c...   \n",
       "8  Buzzfeed chief Ben Smith leaves for NY Times c...   \n",
       "9  China demands apology for newspaper's coronavi...   \n",
       "\n",
       "                         date  \n",
       "5   February 6, 2020 | 2:01pm  \n",
       "6  February 6, 2020 | 10:48am  \n",
       "7   February 3, 2020 | 2:47pm  \n",
       "8   January 28, 2020 | 4:24pm  \n",
       "9   January 28, 2020 | 1:45pm  "
      ]
     },
     "execution_count": 49,
     "metadata": {},
     "output_type": "execute_result"
    }
   ],
   "source": [
    "df.tail()"
   ]
  },
  {
   "cell_type": "code",
   "execution_count": 75,
   "metadata": {},
   "outputs": [],
   "source": [
    "df.to_csv('webscrape.csv', index=False,encoding='utf-8')"
   ]
  },
  {
   "cell_type": "code",
   "execution_count": 76,
   "metadata": {},
   "outputs": [],
   "source": [
    "df= pd.read_csv('webscrape.csv',encoding='utf-8')"
   ]
  },
  {
   "cell_type": "code",
   "execution_count": 73,
   "metadata": {},
   "outputs": [],
   "source": [
    "df['date']=pd.to_datetime(df['date'])"
   ]
  },
  {
   "cell_type": "code",
   "execution_count": 74,
   "metadata": {},
   "outputs": [
    {
     "data": {
      "text/html": [
       "<div>\n",
       "<style scoped>\n",
       "    .dataframe tbody tr th:only-of-type {\n",
       "        vertical-align: middle;\n",
       "    }\n",
       "\n",
       "    .dataframe tbody tr th {\n",
       "        vertical-align: top;\n",
       "    }\n",
       "\n",
       "    .dataframe thead th {\n",
       "        text-align: right;\n",
       "    }\n",
       "</style>\n",
       "<table border=\"1\" class=\"dataframe\">\n",
       "  <thead>\n",
       "    <tr style=\"text-align: right;\">\n",
       "      <th></th>\n",
       "      <th>header</th>\n",
       "      <th>date</th>\n",
       "      <th>time</th>\n",
       "    </tr>\n",
       "  </thead>\n",
       "  <tbody>\n",
       "    <tr>\n",
       "      <td>0</td>\n",
       "      <td>No TP because of coronavirus? This Aussie pape...</td>\n",
       "      <td>2020-03-05</td>\n",
       "      <td>4:49pm</td>\n",
       "    </tr>\n",
       "    <tr>\n",
       "      <td>1</td>\n",
       "      <td>Legendary New York Post editor Al Ellenberg de...</td>\n",
       "      <td>2020-03-04</td>\n",
       "      <td>8:57pm</td>\n",
       "    </tr>\n",
       "    <tr>\n",
       "      <td>2</td>\n",
       "      <td>Top Chicago Tribune editor Bruce Dold fired</td>\n",
       "      <td>2020-02-27</td>\n",
       "      <td>1:35pm</td>\n",
       "    </tr>\n",
       "    <tr>\n",
       "      <td>3</td>\n",
       "      <td>Newspaper giant McClatchy files for bankruptcy</td>\n",
       "      <td>2020-02-13</td>\n",
       "      <td>8:09am</td>\n",
       "    </tr>\n",
       "    <tr>\n",
       "      <td>4</td>\n",
       "      <td>Nicaragua returns ink, paper seized from publi...</td>\n",
       "      <td>2020-02-08</td>\n",
       "      <td>3:19pm</td>\n",
       "    </tr>\n",
       "    <tr>\n",
       "      <td>5</td>\n",
       "      <td>Tribune Publishing's new CEO unleashes bloodba...</td>\n",
       "      <td>2020-02-06</td>\n",
       "      <td>2:01pm</td>\n",
       "    </tr>\n",
       "    <tr>\n",
       "      <td>6</td>\n",
       "      <td>NYT revenue tops estimates as digital subscrip...</td>\n",
       "      <td>2020-02-06</td>\n",
       "      <td>10:48am</td>\n",
       "    </tr>\n",
       "    <tr>\n",
       "      <td>7</td>\n",
       "      <td>Tribune names finance chief to CEO post amid c...</td>\n",
       "      <td>2020-02-03</td>\n",
       "      <td>2:47pm</td>\n",
       "    </tr>\n",
       "    <tr>\n",
       "      <td>8</td>\n",
       "      <td>Buzzfeed chief Ben Smith leaves for NY Times c...</td>\n",
       "      <td>2020-01-28</td>\n",
       "      <td>4:24pm</td>\n",
       "    </tr>\n",
       "    <tr>\n",
       "      <td>9</td>\n",
       "      <td>China demands apology for newspaper's coronavi...</td>\n",
       "      <td>2020-01-28</td>\n",
       "      <td>1:45pm</td>\n",
       "    </tr>\n",
       "  </tbody>\n",
       "</table>\n",
       "</div>"
      ],
      "text/plain": [
       "                                              header       date     time\n",
       "0  No TP because of coronavirus? This Aussie pape... 2020-03-05   4:49pm\n",
       "1  Legendary New York Post editor Al Ellenberg de... 2020-03-04   8:57pm\n",
       "2        Top Chicago Tribune editor Bruce Dold fired 2020-02-27   1:35pm\n",
       "3     Newspaper giant McClatchy files for bankruptcy 2020-02-13   8:09am\n",
       "4  Nicaragua returns ink, paper seized from publi... 2020-02-08   3:19pm\n",
       "5  Tribune Publishing's new CEO unleashes bloodba... 2020-02-06   2:01pm\n",
       "6  NYT revenue tops estimates as digital subscrip... 2020-02-06  10:48am\n",
       "7  Tribune names finance chief to CEO post amid c... 2020-02-03   2:47pm\n",
       "8  Buzzfeed chief Ben Smith leaves for NY Times c... 2020-01-28   4:24pm\n",
       "9  China demands apology for newspaper's coronavi... 2020-01-28   1:45pm"
      ]
     },
     "execution_count": 74,
     "metadata": {},
     "output_type": "execute_result"
    }
   ],
   "source": [
    "df"
   ]
  },
  {
   "cell_type": "code",
   "execution_count": null,
   "metadata": {},
   "outputs": [],
   "source": []
  },
  {
   "cell_type": "code",
   "execution_count": null,
   "metadata": {},
   "outputs": [],
   "source": []
  },
  {
   "cell_type": "code",
   "execution_count": null,
   "metadata": {},
   "outputs": [],
   "source": []
  },
  {
   "cell_type": "code",
   "execution_count": null,
   "metadata": {},
   "outputs": [],
   "source": []
  },
  {
   "cell_type": "code",
   "execution_count": null,
   "metadata": {},
   "outputs": [],
   "source": []
  },
  {
   "cell_type": "code",
   "execution_count": null,
   "metadata": {},
   "outputs": [],
   "source": []
  },
  {
   "cell_type": "code",
   "execution_count": null,
   "metadata": {},
   "outputs": [],
   "source": []
  }
 ],
 "metadata": {
  "kernelspec": {
   "display_name": "Python 3",
   "language": "python",
   "name": "python3"
  },
  "language_info": {
   "codemirror_mode": {
    "name": "ipython",
    "version": 3
   },
   "file_extension": ".py",
   "mimetype": "text/x-python",
   "name": "python",
   "nbconvert_exporter": "python",
   "pygments_lexer": "ipython3",
   "version": "3.7.4"
  }
 },
 "nbformat": 4,
 "nbformat_minor": 2
}
