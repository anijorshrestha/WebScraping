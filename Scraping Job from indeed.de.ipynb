{
 "cells": [
  {
   "cell_type": "code",
   "execution_count": 86,
   "metadata": {},
   "outputs": [
    {
     "name": "stdout",
     "output_type": "stream",
     "text": [
      "Job Title: Data Analyst, Global Data & Insights - Assisted Relocation to Copenhagen, DK\n",
      "Company name:\n",
      "Pandora\n",
      "Job summary:\n",
      "\n",
      "Your new team consists of data scientists, data engineers and an audience manager.\n",
      "We have a data lake, a unified analytics platform and solid communication…\n",
      "\n",
      "---------------------------------------------\n",
      "Job Title: Consultant Digital Strategy (m/w/d) in Essen\n",
      "Company name:\n",
      "ALDI Einkauf GmbH & Co. oHG\n",
      "Job summary:\n",
      "\n",
      "Consultant Digital Strategy (m/w/d).\n",
      "ALDI Nord ist der Discounter Nr.\n",
      "Über 100 Jahre Erfahrung, mehr als 69.000 Mitarbeiterinnen und Mitarbeiter in neun Ländern…\n",
      "\n",
      "---------------------------------------------\n",
      "Job Title: Data Analyst (m/w/d) am Standort Hamburg\n",
      "Company name:\n",
      "DPV Deutscher Pressevertrieb GmbH\n",
      "Job summary:\n",
      "\n",
      "Die DPV Deutscher Pressevertrieb GmbH (part of Gruner + Jahr) freut sich auf Dich als.\n",
      "Data Analyst (m/w/d) im Bereich Business Analytics.\n",
      "\n",
      "---------------------------------------------\n",
      "Job Title: Business Development & Strategy Analyst (m/f/d) in Cologne\n"
     ]
    },
    {
     "ename": "AttributeError",
     "evalue": "'NoneType' object has no attribute 'text'",
     "output_type": "error",
     "traceback": [
      "\u001b[1;31m---------------------------------------------------------------------------\u001b[0m",
      "\u001b[1;31mAttributeError\u001b[0m                            Traceback (most recent call last)",
      "\u001b[1;32m<ipython-input-86-3d07cfbc5d77>\u001b[0m in \u001b[0;36m<module>\u001b[1;34m\u001b[0m\n\u001b[0;32m     18\u001b[0m     \u001b[0msummary\u001b[0m\u001b[1;33m=\u001b[0m\u001b[0mresult\u001b[0m\u001b[1;33m.\u001b[0m\u001b[0mfind\u001b[0m\u001b[1;33m(\u001b[0m\u001b[1;34m'div'\u001b[0m\u001b[1;33m,\u001b[0m\u001b[0mattrs\u001b[0m\u001b[1;33m=\u001b[0m\u001b[1;33m{\u001b[0m\u001b[1;34m'class'\u001b[0m\u001b[1;33m:\u001b[0m\u001b[1;34m'summary'\u001b[0m\u001b[1;33m}\u001b[0m\u001b[1;33m)\u001b[0m\u001b[1;33m\u001b[0m\u001b[1;33m\u001b[0m\u001b[0m\n\u001b[0;32m     19\u001b[0m     \u001b[0mprint\u001b[0m\u001b[1;33m(\u001b[0m\u001b[1;34m'Job Title: '\u001b[0m\u001b[1;33m+\u001b[0m\u001b[0mjob_title\u001b[0m\u001b[1;33m)\u001b[0m\u001b[1;33m\u001b[0m\u001b[1;33m\u001b[0m\u001b[0m\n\u001b[1;32m---> 20\u001b[1;33m     \u001b[0mprint\u001b[0m\u001b[1;33m(\u001b[0m\u001b[1;34m'Company name:'\u001b[0m \u001b[1;33m+\u001b[0m \u001b[0mcompany_name\u001b[0m\u001b[1;33m.\u001b[0m\u001b[0mtext\u001b[0m\u001b[1;33m)\u001b[0m\u001b[1;33m\u001b[0m\u001b[1;33m\u001b[0m\u001b[0m\n\u001b[0m\u001b[0;32m     21\u001b[0m \u001b[1;33m\u001b[0m\u001b[0m\n\u001b[0;32m     22\u001b[0m     \u001b[0mprint\u001b[0m\u001b[1;33m(\u001b[0m\u001b[1;34m'Job summary:'\u001b[0m\u001b[1;33m+\u001b[0m \u001b[0msummary\u001b[0m\u001b[1;33m.\u001b[0m\u001b[0mtext\u001b[0m\u001b[1;33m)\u001b[0m\u001b[1;33m\u001b[0m\u001b[1;33m\u001b[0m\u001b[0m\n",
      "\u001b[1;31mAttributeError\u001b[0m: 'NoneType' object has no attribute 'text'"
     ]
    }
   ],
   "source": [
    "import requests\n",
    "from bs4 import BeautifulSoup\n",
    "\n",
    "\n",
    "URL = \"https://de.indeed.com/Jobs?q=Data+Analyst&l=Chemnitz\"\n",
    "page = requests.get(URL)\n",
    "\n",
    "soup = BeautifulSoup(page.text, \"html.parser\")\n",
    "results = soup.find_all('div',attrs={'class':'jobsearch-SerpJobCard unifiedRow row result'})\n",
    "\n",
    "\n",
    "# Print out all available jobs from the scraped webpage\n",
    "for result in results:\n",
    "    title=result.find('div',attrs={'class':'title'})\n",
    "    job_title=title.find(\"a\")[\"title\"]\n",
    "    name=result.find('div',attrs={'class':'sjcl'})\n",
    "    company_name=name.find('a')\n",
    "    summary=result.find('div',attrs={'class':'summary'})\n",
    "    print('Job Title: '+job_title)\n",
    "    print('Company name:' + company_name.text)\n",
    "  \n",
    "    print('Job summary:'+ summary.text)\n",
    "    print ('---------------------------------------------')\n",
    "    "
   ]
  },
  {
   "cell_type": "code",
   "execution_count": 87,
   "metadata": {},
   "outputs": [
    {
     "data": {
      "text/plain": [
       "4"
      ]
     },
     "execution_count": 87,
     "metadata": {},
     "output_type": "execute_result"
    }
   ],
   "source": [
    "2+2"
   ]
  },
  {
   "cell_type": "code",
   "execution_count": null,
   "metadata": {},
   "outputs": [],
   "source": []
  }
 ],
 "metadata": {
  "kernelspec": {
   "display_name": "Python 3",
   "language": "python",
   "name": "python3"
  },
  "language_info": {
   "codemirror_mode": {
    "name": "ipython",
    "version": 3
   },
   "file_extension": ".py",
   "mimetype": "text/x-python",
   "name": "python",
   "nbconvert_exporter": "python",
   "pygments_lexer": "ipython3",
   "version": "3.7.4"
  }
 },
 "nbformat": 4,
 "nbformat_minor": 2
}
